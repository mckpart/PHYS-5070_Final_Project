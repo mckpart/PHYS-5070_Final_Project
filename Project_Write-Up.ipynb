{
 "cells": [
  {
   "cell_type": "markdown",
   "metadata": {},
   "source": [
    "# Numerical Investigations to Burger's Equation"
   ]
  },
  {
   "cell_type": "code",
   "execution_count": null,
   "metadata": {},
   "outputs": [],
   "source": [
    "import numpy as np\n",
    "import matplotlib as plt"
   ]
  },
  {
   "cell_type": "markdown",
   "metadata": {},
   "source": [
    "Burger's equation is a non-linear PDE that allows one to develop intuition regarding the physical mechanisms of both advection and diffusion. The equation in one dimension is given by\n",
    "\n",
    "\\\\[\\frac{\\partial u}{\\partial t} + u \\frac{\\partial u}{\\partial x} = \\nu \\frac{\\partial^2 u}{\\partial x^2}.\\\\]\n",
    "\n",
    "This can be thought of as a simplified Navier-Stokes equation with no body force terms or pressure gradient. $\\nu$ represents the kinematic viscosity and thus the term $\\nu (\\partial^2 u/\\partial x^2)$ represents the diffusion of viscous forces. The term $u (\\partial u / \\partial x)$ is the advection term, as seen in the Navier-Stokes equation. Often it is of interest to solve the problem when $\\nu = 0$ - this is referred to as the inviscid Burger's equation, and is often expressed as\n",
    "\n",
    "\\\\[\\frac{\\partial u}{\\partial t} + \\frac{1}{2}\\frac{\\partial}{\\partial x}u^2=0.\\\\]"
   ]
  },
  {
   "cell_type": "markdown",
   "metadata": {},
   "source": [
    "To develop intuition regarding the role of each type of transport, the viscid Burger's equation is first considered. The explicit finite difference method will be derived and implemented, though as with most explicit methods, the stability varies due to the accumulation of error with each step. "
   ]
  },
  {
   "cell_type": "markdown",
   "metadata": {},
   "source": [
    "The explicit method is obtained by using a forward-difference on the time derivative, meaning\n",
    "\n",
    "\\\\[\\frac{\\partial u}{\\partial t} \\approx \\frac{u(x,t+\\Delta t) - u(x,t)}{\\Delta t} = \\frac{u_{i,j+1} - u_{i,j}}{\\Delta t}.\\\\]\n",
    "\n",
    "As seen in Landau, Paez and Bordeianu, the central-difference approximation is used on the diffusion term, resulting in\n",
    "\n",
    "\\\\[\\frac{\\partial^2 u}{\\partial x^2} \\approx \\frac{u(x+\\Delta x,t) - 2u(x,t) + u(x-\\Delta x,t)}{(\\Delta x)^2} \n",
    "= \\frac{u_{i+1,j} - 2u_{i,j} + u_{i-1,j}}{(\\Delta x)^2}.\\\\]\n",
    "\n",
    "The advection term can then be approximated using Taylor expansions of both $u^2(x+\\Delta x,t)/2$ and $u^2(x-\\Delta x,t)/2$ as shown\n",
    "\n",
    "\\\\[\\frac{u^2(x+\\Delta x,t)}{2} = \\frac{u^2}{2} + \\frac{2u}{2}\\frac{\\partial u}{\\partial x}\\Delta x+...=\\frac{u^2}{2} + u\\frac{\\partial u}{\\partial x}\\Delta x+...\\\\]\n",
    "\n",
    "\\\\[\\frac{u^2(x-\\Delta x,t)}{2} = \\frac{u^2}{2} - \\frac{2u}{2}\\frac{\\partial u}{\\partial x}\\Delta x+...=\\frac{u^2}{2} - u\\frac{\\partial u}{\\partial x}\\Delta x+..\\\\]\n",
    "\n",
    "Thus\n",
    "\n",
    "\\\\[\\begin{align*}\n",
    "\\frac{u^2(x+\\Delta x,t)}{2} - \\frac{u^2(x-\\Delta x,t)}{2} &\\approx \\left(\\frac{u^2}{2} + u\\frac{\\partial u}{\\partial x}\\Delta x\\right) - \\left(\\frac{u^2}{2} - u\\frac{\\partial u}{\\partial x}\\Delta x\\right) \\\\\n",
    "&= 2 u \\frac{\\partial u}{\\partial x}\\Delta x\n",
    "\\end{align*} \\\\]\n",
    "\n",
    "meaning that\n",
    "\\\\[u \\frac{\\partial u}{\\partial x} \\approx \\frac{1}{2\\Delta x}\\left(\\frac{u^2(x+\\Delta x,t)}{2} - \\frac{u^2(x-\\Delta x,t)}{2}\\right) = \\frac{1}{4}\\left(\\frac{u_{i+1,j}^2 - u_{i-1,j}^2}{\\Delta x}\\right).\\\\]"
   ]
  },
  {
   "cell_type": "code",
   "execution_count": null,
   "metadata": {},
   "outputs": [],
   "source": []
  }
 ],
 "metadata": {
  "kernelspec": {
   "display_name": "Python 3",
   "language": "python",
   "name": "python3"
  },
  "language_info": {
   "codemirror_mode": {
    "name": "ipython",
    "version": 3
   },
   "file_extension": ".py",
   "mimetype": "text/x-python",
   "name": "python",
   "nbconvert_exporter": "python",
   "pygments_lexer": "ipython3",
   "version": "3.7.6"
  }
 },
 "nbformat": 4,
 "nbformat_minor": 4
}
