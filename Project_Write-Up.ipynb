{
 "cells": [
  {
   "cell_type": "markdown",
   "metadata": {},
   "source": [
    "# Numerical Investigations to Burger's Equation"
   ]
  },
  {
   "cell_type": "code",
   "execution_count": null,
   "metadata": {},
   "outputs": [],
   "source": [
    "import numpy as np\n",
    "import matplotlib as plt"
   ]
  },
  {
   "cell_type": "markdown",
   "metadata": {},
   "source": [
    "Burger's equation is a non-linear PDE that allows one to develop intuition regarding the physical mechanisms of both advection and diffusion. The equation in one dimension is given by\n",
    "\n",
    "\\\\[\\frac{\\partial u}{\\partial t} + u \\frac{\\partial u}{\\partial x} = \\nu \\frac{\\partial^2 u}{\\partial x^2}.\\\\]\n",
    "\n",
    "This can be thought of as a simplified Navier-Stokes equation with no body force terms or pressure gradient. $\\nu$ represents the kinematic viscosity and thus the term $\\nu (\\partial^2 u/\\partial x^2)$ represents the diffusion of viscous forces. The term $u (\\partial u / \\partial x)$ is the advection term, as seen in the Navier-Stokes equation. Often it is of interest to solve the problem when $\\nu = 0$ - this is referred to as the inviscid Burger's equation, and is often expressed as\n",
    "\n",
    "\\\\[\\frac{\\partial u}{\\partial t} + \\frac{1}{2}\\frac{\\partial}{\\partial x}u^2=0.\\\\]"
   ]
  },
  {
   "cell_type": "markdown",
   "metadata": {},
   "source": [
    "To develop intuition regarding the role of each type of transport, the viscid Burger's equation is first considered. The explicit finite difference method will be derived and implemented, though as with most explicit methods, the stability varies due to the accumulation of error with each step. "
   ]
  },
  {
   "cell_type": "markdown",
   "metadata": {},
   "source": [
    "### Explicit Finite Difference Method\n",
    "\n",
    "The explicit method is obtained by using a forward-difference on the time derivative, meaning\n",
    "\n",
    "\\\\[\\frac{\\partial u}{\\partial t} \\approx \\frac{u(x,t+\\Delta t) - u(x,t)}{\\Delta t} = \\frac{u_{i,j+1} - u_{i,j}}{\\Delta t}.\\\\]\n",
    "\n",
    "As seen in Landau, Paez and Bordeianu, the central-difference approximation is used on the diffusion term, resulting in\n",
    "\n",
    "\\\\[\\frac{\\partial^2 u}{\\partial x^2} \\approx \\frac{u(x+\\Delta x,t) - 2u(x,t) + u(x-\\Delta x,t)}{(\\Delta x)^2} \n",
    "= \\frac{u_{i+1,j} - 2u_{i,j} + u_{i-1,j}}{(\\Delta x)^2}.\\\\]\n"
   ]
  },
  {
   "cell_type": "markdown",
   "metadata": {},
   "source": [
    "There are a couple of different first order approaches to approximate the advection term. The first method uses a central-difference to approximate $\\partial u / \\partial x$. \n",
    "\n",
    "\\\\[\\frac{\\partial u}{\\partial x} \\approx \\frac{u(x+\\Delta x/2,t) - u(x-\\Delta x / 2,t)}{\\Delta x} = \\frac{(u_{i+1,j}+u_{i,j})/2 - (u_{i-1,j}+u_{i,j})/2}{\\Delta x} = \\frac{u_{i+1,j} -u_{i-1,j}}{2\\Delta x}\\\\]\n",
    "\n",
    "Using this approximation, an explicit finite difference method for Burger's equation is given by \n",
    "\n",
    "\\\\[\\begin{align} \\frac{u_{i,j+1} - u_{i,j}}{\\Delta t} + \\frac{u_{i,j}(u_{i+1,j} -u_{i-1,j})}{2\\Delta x} &= \\frac{u_{i+1,j} - 2u_{i,j} + u_{i-1,j}}{(\\Delta x)^2} \\\\ \n",
    "\\Rightarrow \\frac{u_{i,j+1} - u_{i,j}}{\\Delta t} &= -\\frac{u_{i,j}(u_{i+1,j} -u_{i-1,j})}{2\\Delta x} + \\frac{u_{i+1,j} - 2u_{i,j} + u_{i-1,j}}{(\\Delta x)^2} \\\\\n",
    "\\Rightarrow u_{i,j+1} &= u_{i,j} + \\Delta t\\left( -\\frac{u_{i,j}(u_{i+1,j} -u_{i-1,j})}{2\\Delta x} + \\frac{u_{i+1,j} - 2u_{i,j} + u_{i-1,j}}{(\\Delta x)^2}\\right)\\end{align} \\\\]"
   ]
  },
  {
   "cell_type": "code",
   "execution_count": null,
   "metadata": {},
   "outputs": [],
   "source": [
    "### Here we will import the function from finite.py #####"
   ]
  },
  {
   "cell_type": "markdown",
   "metadata": {},
   "source": [
    "### Analytic Solutions for the Viscid Burger's Equation\n",
    "From Inan and Bahadir, a more complex numerical method was used to solve Burger's equation, though the analytic solutions provide a way to compare the with the numerical solutions obtained above. From Table 3, \n",
    "\n",
    "| x    | t    | $\\nu=1.0$ | $\\nu=.01$ |\n",
    "|------|------|-----------|------------|\n",
    "| 0.25 | 0.10 | 0.253638  | 0.566328   |\n",
    "|      | 0.15 | 0.156601  | 0.512148   |\n",
    "|      | 0.20 | 0.096442  | 0.466583   |\n",
    "|      | 0.25 | 0.059218  | 0.427995   |\n",
    "|      |      |           |            |\n",
    "| 0.50 | 0.10 | 0.371577  | 0.947414   |\n",
    "|      | 0.15 | 0.226824  | 0.900098   |\n",
    "|      | 0.20 | 0.138473  | 0.848365   |\n",
    "|      | 0.25 | 0.084538  | 0.796762   |\n",
    "|      |      |           |            |\n",
    "| 0.75 | 0.10 | 0.272582  | 0.860134   |\n",
    "|      | 0.15 | 0.164369  | 0.922756   |\n",
    "|      | 0.20 | 0.099435  | 0.961891   |\n",
    "|      | 0.25 | 0.060347  | 0.974689   |\n",
    "\n",
    "which is for the problem with the following initial condition and boundary conditions\n",
    "\n",
    "\\\\[u(x,0) = \\mbox{sin}(\\pi x) \\qquad u(0,t)=u(1,t)=0\\\\]\n",
    "\n",
    "with the analytical solution being given by\n",
    "\n",
    "\\\\[u(x,t) = 2 \\pi \\nu \\frac{\\sum_{n=1}^\\infty a_n \\mbox{exp}(-n^2 \\pi^2 \\nu t)n \\mbox{sin}(n\\pi x)}{a_0 + \\sum_{n=1}^\\infty a_n \\mbox{exp}(-n^2 \\pi^2 \\nu t)\\mbox{cos}(n \\pi x)}\\\\]\n",
    "\n",
    "where \n",
    "\n",
    "\\\\[\\begin{align*} \n",
    "a_0 &= \\int_0^1 \\mbox{exp}\\left(-(1-\\mbox{cos}(\\pi x) )/(2 \\pi \\nu)\\right)dx  \\\\\n",
    "a_n &= 2\\int_0^1 \\mbox{exp}\\left(-(1-\\mbox{cos}(\\pi x) )/(2 \\pi \\nu)\\right)\\mbox{cos}(n \\pi x)dx.\n",
    "\\end{align*}\\\\]"
   ]
  },
  {
   "cell_type": "markdown",
   "metadata": {},
   "source": [
    "### Maybe remove this later, or run simulation with this approximation instead and compare\n",
    "\n",
    "The advection term can then be approximated using Taylor expansions of both $u^2(x+\\Delta x,t)/2$ and $u^2(x-\\Delta x,t)/2$ as shown\n",
    "\n",
    "\\\\[\\frac{u^2(x+\\Delta x,t)}{2} = \\frac{u^2}{2} + \\frac{2u}{2}\\frac{\\partial u}{\\partial x}\\Delta x+...=\\frac{u^2}{2} + u\\frac{\\partial u}{\\partial x}\\Delta x+...\\\\]\n",
    "\n",
    "\\\\[\\frac{u^2(x-\\Delta x,t)}{2} = \\frac{u^2}{2} - \\frac{2u}{2}\\frac{\\partial u}{\\partial x}\\Delta x+...=\\frac{u^2}{2} - u\\frac{\\partial u}{\\partial x}\\Delta x+..\\\\]\n",
    "\n",
    "Thus\n",
    "\n",
    "\\\\[\\begin{align*}\n",
    "\\frac{u^2(x+\\Delta x,t)}{2} - \\frac{u^2(x-\\Delta x,t)}{2} &\\approx \\left(\\frac{u^2}{2} + u\\frac{\\partial u}{\\partial x}\\Delta x\\right) - \\left(\\frac{u^2}{2} - u\\frac{\\partial u}{\\partial x}\\Delta x\\right) \\\\\n",
    "&= 2 u \\frac{\\partial u}{\\partial x}\\Delta x\n",
    "\\end{align*} \\\\]\n",
    "\n",
    "meaning that\n",
    "\\\\[u \\frac{\\partial u}{\\partial x} \\approx \\frac{1}{2\\Delta x}\\left(\\frac{u^2(x+\\Delta x,t)}{2} - \\frac{u^2(x-\\Delta x,t)}{2}\\right) = \\frac{1}{4}\\left(\\frac{u_{i+1,j}^2 - u_{i-1,j}^2}{\\Delta x}\\right).\\\\]"
   ]
  },
  {
   "cell_type": "markdown",
   "metadata": {},
   "source": [
    "### References\n",
    "\n",
    "1. INAN, BILGE, and AHMET REFIK BAHADIR. “Numerical Solution of the One-Dimensional Burgers’ Equation: Implicit and Fully Implicit Exponential Finite Difference Methods.” Pramana, vol. 81, no. 4, 2013, pp. 547–556., doi:10.1007/s12043-013-0599-z. "
   ]
  },
  {
   "cell_type": "code",
   "execution_count": null,
   "metadata": {},
   "outputs": [],
   "source": []
  }
 ],
 "metadata": {
  "kernelspec": {
   "display_name": "Python 3",
   "language": "python",
   "name": "python3"
  },
  "language_info": {
   "codemirror_mode": {
    "name": "ipython",
    "version": 3
   },
   "file_extension": ".py",
   "mimetype": "text/x-python",
   "name": "python",
   "nbconvert_exporter": "python",
   "pygments_lexer": "ipython3",
   "version": "3.7.6"
  }
 },
 "nbformat": 4,
 "nbformat_minor": 4
}
