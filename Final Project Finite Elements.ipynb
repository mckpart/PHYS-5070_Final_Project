{
 "cells": [
  {
   "cell_type": "code",
   "execution_count": 1,
   "id": "cardiac-alberta",
   "metadata": {},
   "outputs": [],
   "source": [
    "import numpy as np\n",
    "import matplotlib.pyplot as plt\n",
    "from mpl_toolkits.mplot3d import Axes3D\n",
    "\n",
    "import analytic_sol "
   ]
  },
  {
   "cell_type": "markdown",
   "id": "fluid-pattern",
   "metadata": {},
   "source": [
    "# $\\frac{\\partial u}{\\partial t} + u \\frac{\\partial u}{\\partial x} = \\nu \\frac{\\partial^2 u}{\\partial x^2}$ "
   ]
  },
  {
   "cell_type": "code",
   "execution_count": 52,
   "id": "mounted-floating",
   "metadata": {},
   "outputs": [
    {
     "data": {
      "text/plain": [
       "[<matplotlib.lines.Line2D at 0x28880037a60>]"
      ]
     },
     "execution_count": 52,
     "metadata": {},
     "output_type": "execute_result"
    },
    {
     "data": {
      "image/png": "[encoded data removed]",
      "text/plain": [
       "<Figure size 432x288 with 1 Axes>"
      ]
     },
     "metadata": {
      "needs_background": "light"
     },
     "output_type": "display_data"
    }
   ],
   "source": [
    "grid = np.linspace(0,1,20)\n",
    "initial = np.sin(np.pi*grid)\n",
    "time=np.linspace(0,1,10000)\n",
    "\n",
    "u = FiniteElements_Burgers(v=1,grid=grid,time=time,initial_conditions=initial)\n",
    "\n",
    "plt.plot(grid,u[0])"
   ]
  },
  {
   "cell_type": "code",
   "execution_count": null,
   "id": "usual-commander",
   "metadata": {},
   "outputs": [],
   "source": [
    "grid = np.linspace(0,1,10)\n",
    "time=np.linspace(0,1,10)\n",
    "\n",
    "u_analytic = analytic_sol.IB_problem1(1, grid, time, 10)\n",
    "Grid,Time = np.meshgrid(grid,time)\n",
    "fig = plt.figure(figsize=(12,12))\n",
    "ax = fig.add_subplot(111, projection='3d')\n",
    "ax.plot_surface(Time,Grid,u_analytic)\n",
    "plt.show()"
   ]
  },
  {
   "cell_type": "code",
   "execution_count": null,
   "id": "resistant-finish",
   "metadata": {},
   "outputs": [],
   "source": []
  },
  {
   "cell_type": "code",
   "execution_count": null,
   "id": "frozen-restoration",
   "metadata": {},
   "outputs": [],
   "source": []
  },
  {
   "cell_type": "code",
   "execution_count": null,
   "id": "dynamic-marriage",
   "metadata": {},
   "outputs": [],
   "source": []
  }
 ],
 "metadata": {
  "kernelspec": {
   "display_name": "Python 3",
   "language": "python",
   "name": "python3"
  },
  "language_info": {
   "codemirror_mode": {
    "name": "ipython",
    "version": 3
   },
   "file_extension": ".py",
   "mimetype": "text/x-python",
   "name": "python",
   "nbconvert_exporter": "python",
   "pygments_lexer": "ipython3",
   "version": "3.8.8"
  }
 },
 "nbformat": 4,
 "nbformat_minor": 5
}
